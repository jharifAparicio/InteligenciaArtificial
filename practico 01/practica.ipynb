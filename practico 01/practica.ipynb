{
 "cells": [
  {
   "cell_type": "code",
   "execution_count": 1,
   "metadata": {},
   "outputs": [
    {
     "ename": "ModuleNotFoundError",
     "evalue": "No module named 'matplotlib'",
     "output_type": "error",
     "traceback": [
      "\u001b[0;31m---------------------------------------------------------------------------\u001b[0m",
      "\u001b[0;31mModuleNotFoundError\u001b[0m                       Traceback (most recent call last)",
      "Cell \u001b[0;32mIn[1], line 3\u001b[0m\n\u001b[1;32m      1\u001b[0m \u001b[38;5;28;01mimport\u001b[39;00m \u001b[38;5;21;01mnumpy\u001b[39;00m \u001b[38;5;28;01mas\u001b[39;00m \u001b[38;5;21;01mnp\u001b[39;00m\n\u001b[1;32m      2\u001b[0m \u001b[38;5;28;01mimport\u001b[39;00m \u001b[38;5;21;01mpandas\u001b[39;00m \u001b[38;5;28;01mas\u001b[39;00m \u001b[38;5;21;01mpd\u001b[39;00m\n\u001b[0;32m----> 3\u001b[0m \u001b[38;5;28;01mimport\u001b[39;00m \u001b[38;5;21;01mmatplotlib\u001b[39;00m\u001b[38;5;21;01m.\u001b[39;00m\u001b[38;5;21;01mpyplot\u001b[39;00m \u001b[38;5;28;01mas\u001b[39;00m \u001b[38;5;21;01mplt\u001b[39;00m\n\u001b[1;32m      5\u001b[0m \u001b[38;5;66;03m# Generar datos de estatura y peso controlados\u001b[39;00m\n\u001b[1;32m      7\u001b[0m np\u001b[38;5;241m.\u001b[39mrandom\u001b[38;5;241m.\u001b[39mseed(\u001b[38;5;241m42\u001b[39m)\n",
      "\u001b[0;31mModuleNotFoundError\u001b[0m: No module named 'matplotlib'"
     ]
    }
   ],
   "source": [
    "import numpy as np\n",
    "import pandas as pd\n",
    "import matplotlib.pyplot as plt\n",
    "\n",
    "# Generar datos de estatura y peso controlados\n",
    "\n",
    "np.random.seed(42)\n",
    "estaturas = np.random.uniform(1.4, 2.0, 100)\n",
    "pesos = []\n",
    "\n",
    "# Bucle para generar pesos aleatorios controlados según la estatura\n",
    "for estatura in estaturas:\n",
    "    # Calcular el peso mínimo y máximo usando el IMC saludable (18.5 a 24.9)\n",
    "    peso_min = 18.5 * (estatura**2)  # Peso mínimo según IMC de 18.5\n",
    "    peso_max = 24.9 * (estatura**2)  # Peso máximo según IMC de 24.9\n",
    "    # Generar un peso aleatorio entre el peso mínimo y máximo calculado\n",
    "    peso = np.random.uniform(peso_min, peso_max)\n",
    "    pesos.append(round(peso,2))  # Añadir el peso a la lista de pesos\n",
    "\n",
    "# Crear un DataFrame con los datos de estatura y peso\n",
    "data = pd.DataFrame({\n",
    "    'Estatura (m)': np.round(estaturas,2),\n",
    "    'Peso (kg)': pesos\n",
    "})\n",
    "\n",
    "data.to_csv('Estaturas vs Pesos',sep=',',index=False, encoding='utf-8')\n",
    "\n",
    "# Calcular la pendiente (m) y la intersección (b) de la recta y = mx + b\n",
    "x = data['Estatura (m)']\n",
    "y = data['Peso (kg)']\n",
    "m = np.sum((x - np.mean(x)) * (y - np.mean(y))) / np.sum((x - np.mean(x)) ** 2)\n",
    "b = np.mean(y) - m * np.mean(x)\n",
    "\n",
    "# Crear los valores de y basados en la fórmula de la recta\n",
    "y_line = m * x + b\n",
    "\n",
    "# Redondear los valores de la línea ajustada\n",
    "y_line = np.round(y_line, 2)\n",
    "\n",
    "# Visualización de los datos generados y la recta ajustada\n",
    "plt.scatter(data['Estatura (m)'], data['Peso (kg)'], color='blue', label='Datos')\n",
    "plt.plot(x, y_line, color='black', label='Línea ajustada')\n",
    "plt.title('Estatura vs Peso con Línea Ajustada')\n",
    "plt.xlabel('Estatura (m)')\n",
    "plt.ylabel('Peso (kg)')\n",
    "plt.legend()\n",
    "plt.show()"
   ]
  }
 ],
 "metadata": {
  "kernelspec": {
   "display_name": "Python 3",
   "language": "python",
   "name": "python3"
  },
  "language_info": {
   "codemirror_mode": {
    "name": "ipython",
    "version": 3
   },
   "file_extension": ".py",
   "mimetype": "text/x-python",
   "name": "python",
   "nbconvert_exporter": "python",
   "pygments_lexer": "ipython3",
   "version": "3.10.12"
  }
 },
 "nbformat": 4,
 "nbformat_minor": 2
}
